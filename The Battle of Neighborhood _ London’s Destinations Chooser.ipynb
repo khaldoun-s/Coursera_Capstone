{
 "cells": [
  {
   "cell_type": "markdown",
   "metadata": {},
   "source": [
    "## <h1 align=\"center\"> The Battle of Neighborhood | London’s Destinations Chooser <h1/>"
   ]
  },
  {
   "cell_type": "markdown",
   "metadata": {},
   "source": [
    "### 1. Introduction"
   ]
  },
  {
   "cell_type": "markdown",
   "metadata": {},
   "source": [
    "The Romans built the city of Londinium along the River Thames in the year AD 43 The name Londinium (and later 'London') came from the Celtic language of the Ancient Britons. In the year AD 61, the city was attacked and destroyed. Then the Romans rebuilt the city, and London became an important trading hub. After the decline of the Roman Empire, few people remained in London. This was partly because the Anglo-Saxon people of Sub-Roman Britain were primarily agricultural. Once the Romans had gone, trade with Continental Europe dwindled. In the 9th century, more people started living in London again. It became the largest city in England. However, it did not become the capital city of England until the 12th century. \n",
    "\n",
    "After the railways were built, London grew very big. Greater London has 33 London Boroughs (Neighborhoods) and a mayor. \n",
    "The old City of London is only a square mile in size but has its own Lord Mayor.\n",
    "\n",
    "Another famous old part of Greater London is Westminster, which was always a different city from the City of London. In Westminster is Westminster Abbey (a cathedral), The Palace of Westminster (the Houses of Parliament, with Big Ben), and 10 Downing Street (where the Prime Minister lives).\n",
    "\n",
    "A lot has changed over the years and we now take a look at how London city have grown.\n",
    "\n",
    "London is quite the popular tourist and vacation destinations for people all around the world. It is diverse and multicultural and offer a wide variety of experiences that is widely sought after. We try to group the neighborhoods of London respectively and draw insights to what they look like now.\n"
   ]
  },
  {
   "cell_type": "markdown",
   "metadata": {},
   "source": [
    "### 2. Business Problem"
   ]
  },
  {
   "cell_type": "markdown",
   "metadata": {},
   "source": [
    "The aim is to help tourists choose their destinations depending on the experiences that the neighborhoods have to offer and what they would want to have. This also helps people make decisions if they are thinking about migrating to London or even if they want to relocate neighborhoods within the city. Our findings will help stakeholders make informed decisions and address any concerns they have including the different kinds of cuisines, provision stores and what the city has to offer."
   ]
  },
  {
   "cell_type": "markdown",
   "metadata": {},
   "source": [
    "### 3. Data Description"
   ]
  },
  {
   "cell_type": "markdown",
   "metadata": {},
   "source": [
    "We require geographical location data for London. Postal codes in each city serve as a starting point. Using Postal codes we use can find out the neighborhoods, boroughs, venues and their most popular venue categories. "
   ]
  },
  {
   "cell_type": "markdown",
   "metadata": {},
   "source": [
    "#### 3.1. Wikipedia"
   ]
  },
  {
   "cell_type": "markdown",
   "metadata": {},
   "source": [
    "To derive our solution, we scrape our data from \n",
    "\n",
    "https://en.wikipedia.org/wiki/List_of_areas_of_London\n",
    "\n",
    "This Wikipedia page has information about all the neighborhoods, we limit it London.\n",
    "\n",
    "London borough: Name of Neighborhood\n",
    "\n",
    "Post town: Name of borough\n",
    "\n",
    "Postcode district: Postal codes for London.\n",
    "\n",
    "This Wikipedia page lacks information about the geographical locations. To solve this problem we use ArcGIS API."
   ]
  },
  {
   "cell_type": "markdown",
   "metadata": {},
   "source": [
    "#### 3.2. ArcGIS API"
   ]
  },
  {
   "cell_type": "markdown",
   "metadata": {},
   "source": [
    "ArcGIS Online enables you to connect people, locations, and data using interactive maps. Work with smart, data-driven styles and intuitive analysis tools that deliver location intelligence. Share your insights with the world or specific groups.\n",
    "\n",
    "More specifically, we use ArcGIS to get the geo locations of the neighborhoods of London. The following columns are added to our initial dataset which prepares our data.\n",
    "\n",
    "latitude: Latitude for Neighborhood\n",
    "\n",
    "longitude: Longitude for Neighborhood"
   ]
  },
  {
   "cell_type": "markdown",
   "metadata": {},
   "source": [
    "#### 3.3. Foursquare API Data"
   ]
  },
  {
   "cell_type": "markdown",
   "metadata": {},
   "source": [
    "We will need data about different venues in different neighborhoods of that specific borough. In order to gain that information we will use \"Foursquare\" locational information. Foursquare is a location data provider with information about all manner of venues and events within an area of interest. Such information includes venue names, locations, menus and even photos. As such, the foursquare location platform will be used as the sole data source since all the stated required information can be obtained through the API."
   ]
  },
  {
   "cell_type": "markdown",
   "metadata": {},
   "source": [
    "After finding the list of neighborhoods, we then connect to the Foursquare API to gather information about venues inside each and every neighborhood. For each neighborhood, we have chosen the radius to be 500 meters."
   ]
  },
  {
   "cell_type": "markdown",
   "metadata": {},
   "source": [
    "The data retrieved from Foursquare contained information of venues within a specified distance of the longitude and latitude of the postcodes. The information obtained per venue as follows:\n",
    "\n",
    "Neighborhood: Name of the Neighborhood\n",
    "\n",
    "Neighborhood Latitude: Latitude of the Neighborhood\n",
    "\n",
    "Neighborhood Longitude: Longitude of the Neighborhood\n",
    "\n",
    "Venue: Name of the Venue\n",
    "\n",
    "Venue Latitude: Latitude of Venue\n",
    "\n",
    "Venue Longitude: Longitude of Venue\n",
    "\n",
    "Venue Category: Category of Venue\n"
   ]
  }
 ],
 "metadata": {
  "kernelspec": {
   "display_name": "Python",
   "language": "python",
   "name": "conda-env-python-py"
  },
  "language_info": {
   "codemirror_mode": {
    "name": "ipython",
    "version": 3
   },
   "file_extension": ".py",
   "mimetype": "text/x-python",
   "name": "python",
   "nbconvert_exporter": "python",
   "pygments_lexer": "ipython3",
   "version": "3.6.11"
  }
 },
 "nbformat": 4,
 "nbformat_minor": 4
}
